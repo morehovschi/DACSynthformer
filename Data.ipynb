{
 "cells": [
  {
   "cell_type": "code",
   "execution_count": 3,
   "id": "0cabb6a0-7173-4d04-b446-677110cc5843",
   "metadata": {},
   "outputs": [
    {
     "name": "stdout",
     "output_type": "stream",
     "text": [
      "Cloning into 'freesound-python'...\n",
      "remote: Enumerating objects: 385, done.\u001b[K\n",
      "remote: Counting objects: 100% (93/93), done.\u001b[K\n",
      "remote: Compressing objects: 100% (44/44), done.\u001b[K\n",
      "remote: Total 385 (delta 44), reused 72 (delta 43), pack-reused 292 (from 1)\u001b[K\n",
      "Receiving objects: 100% (385/385), 196.77 KiB | 2.77 MiB/s, done.\n",
      "Resolving deltas: 100% (186/186), done.\n"
     ]
    }
   ],
   "source": [
    "!git clone https://github.com/MTG/freesound-python"
   ]
  },
  {
   "cell_type": "code",
   "execution_count": 6,
   "id": "c78dc2af-b352-4061-a211-2e96d453cb68",
   "metadata": {},
   "outputs": [],
   "source": [
    "!mv freesound-python/data-acquisition"
   ]
  },
  {
   "cell_type": "code",
   "execution_count": 10,
   "id": "ed1d3d2e-88ec-40e4-a540-171cb1865249",
   "metadata": {},
   "outputs": [],
   "source": [
    "!mkdir data-acquisition/data"
   ]
  },
  {
   "cell_type": "code",
   "execution_count": 23,
   "id": "75501dc0-0a7a-4080-8c6c-f4d992840499",
   "metadata": {},
   "outputs": [],
   "source": [
    "import os\n",
    "import json\n",
    "import shutil\n",
    "import traceback\n",
    "import librosa\n",
    "import numpy as np\n",
    "import matplotlib as plt"
   ]
  },
  {
   "cell_type": "code",
   "execution_count": 24,
   "id": "db559ce0-92a0-4849-9529-c2a1227ebff9",
   "metadata": {},
   "outputs": [],
   "source": [
    "download_path = \"data-acquisition/data\""
   ]
  },
  {
   "cell_type": "code",
   "execution_count": 25,
   "id": "c0958db9-b87b-4649-a45a-7b13327f989a",
   "metadata": {},
   "outputs": [],
   "source": [
    "import sys\n",
    "sys.path.append('./data-acquisition/freesound-python')\n",
    "\n",
    "import freesound as fs"
   ]
  },
  {
   "cell_type": "code",
   "execution_count": 26,
   "id": "c5d84c50-b763-4b53-9f3b-56bb29528785",
   "metadata": {},
   "outputs": [],
   "source": [
    "# this cell is copied from the Freesound assignment from the class Audio Signal Processing\n",
    "# for Music Applications\n",
    "def download_sounds_freesound(queryText = \"\", tag=None, duration=None, API_Key = \"\", outputDir = \"\", topNResults = 5, featureExt = '.json',\n",
    "                              username=None, descriptors=[\"\"]):\n",
    "    \"\"\"\n",
    "    This function downloads sounds and their descriptors from freesound using the queryText and the\n",
    "    tag specified in the input. Additionally, you can also specify the duration range to filter sounds\n",
    "    based on duration.\n",
    "\n",
    "    Inputs:\n",
    "        (Input parameters marked with a * are optional)\n",
    "        queryText (string): query text for the sounds (eg. \"violin\", \"trumpet\", \"cello\", \"bassoon\" etc.)\n",
    "        tag* (string): tag to be used for filtering the searched sounds. (eg. \"multisample\",\n",
    "                       \"single-note\" etc.)\n",
    "        duration* (tuple): min and the max duration (seconds) of the sound to filter, eg. (0.2,15)\n",
    "        username (str): username to filter by\n",
    "        API_Key (string): your api key, which you can obtain from : www.freesound.org/apiv2/apply/\n",
    "        outputDir (string): path to the directory where you want to store the sounds and their\n",
    "                            descriptors\n",
    "        topNResults (integer): number of results(sounds) that you want to download\n",
    "        featureExt (string): file extension for storing sound descriptors\n",
    "    output:\n",
    "        This function downloads sounds and descriptors, and then stores them in outputDir. In\n",
    "        outputDir it creates a directory of the same name as that of the queryText. In this\n",
    "        directory outputDir/queryText it creates a directory for every sound with the name\n",
    "        of the directory as the sound id. Additionally, this function also dumps a text file\n",
    "        containing sound-ids and freesound links for all the downloaded sounds in the outputDir.\n",
    "        NOTE: If the directory outputDir/queryText exists, it deletes the existing contents\n",
    "        and stores only the sounds from the current query.\n",
    "    \"\"\"\n",
    "\n",
    "    # Checking for the compulsory input parameters\n",
    "    if queryText == \"\":\n",
    "        print(\"\\n\")\n",
    "        print(\"Provide a query text to search for sounds\")\n",
    "        return -1\n",
    "\n",
    "    if API_Key == \"\":\n",
    "        print(\"\\n\")\n",
    "        print(\"You need a valid freesound API key to be able to download sounds.\")\n",
    "        print(\"Please apply for one here: www.freesound.org/apiv2/apply/\")\n",
    "        print(\"\\n\")\n",
    "        return -1\n",
    "\n",
    "    if outputDir == \"\" or not os.path.exists(outputDir):\n",
    "        print(\"\\n\")\n",
    "        print(\"Please provide a valid output directory. This will be the root directory for storing sounds and descriptors\")\n",
    "        return -1\n",
    "\n",
    "    # Setting up the Freesound client and the authentication key\n",
    "    fsClnt = fs.FreesoundClient()\n",
    "    fsClnt.set_token(API_Key, \"token\")\n",
    "\n",
    "    # Creating a duration filter string that the Freesound API understands\n",
    "    if duration and type(duration) == tuple:\n",
    "        flt_dur = \" duration:[\" + str(duration[0]) + \" TO \" + str(duration[1]) + \"]\"\n",
    "    else:\n",
    "        flt_dur = \"\"\n",
    "\n",
    "    if tag and type(tag) == str:\n",
    "        flt_tag = \"tag:\" + tag\n",
    "    else:\n",
    "        flt_tag = \"\"\n",
    "\n",
    "    if username and type(username) == str:\n",
    "        flt_user = \"username:\" + username\n",
    "    else:\n",
    "        flt_user = \"\"\n",
    "\n",
    "    # Querying Freesound\n",
    "    page_size = 30\n",
    "    if not flt_tag + flt_dur + flt_user == \"\":\n",
    "        qRes = fsClnt.text_search(query=queryText, filter=flt_tag + flt_dur + flt_user, sort=\"score\", fields=\"id,name,previews,username,url,analysis\", descriptors=','.join(descriptors), page_size=page_size, normalized=1)\n",
    "    else:\n",
    "        qRes = fsClnt.text_search(query=queryText, sort=\"score\", fields=\"id,name,previews,username,url,analysis\", descriptors=','.join(descriptors), page_size=page_size, normalized=1)\n",
    "\n",
    "    outDir2 = os.path.join(outputDir, queryText)\n",
    "    if os.path.exists(outDir2):  # If the directory exists, delete it and start fresh\n",
    "        shutil.rmtree(outDir2)\n",
    "    os.mkdir(outDir2)\n",
    "\n",
    "    pageNo = 1\n",
    "    sndCnt = 0\n",
    "    indCnt = 0\n",
    "    totalSnds = min(qRes.count, 50)  # System quits after trying to download 200 times\n",
    "\n",
    "    # Creating directories to store output and downloading sounds and their descriptors\n",
    "    downloadedSounds = []\n",
    "    while True:\n",
    "        if indCnt >= totalSnds:\n",
    "            print(\"Not able to download the required number of sounds. Either there are not enough search results on Freesound for your search query and filtering constraints, or something is wrong with this script.\")\n",
    "            break\n",
    "\n",
    "        sound = qRes[indCnt - ((pageNo-1) * page_size)]\n",
    "        print(f\"Downloading mp3 preview and descriptors for sound with ID: {str(sound.id)}\")\n",
    "\n",
    "        outDir1 = os.path.join(outputDir, queryText, str(sound.id))\n",
    "        if os.path.exists(outDir1):\n",
    "            shutil.rmtree(outDir1)\n",
    "        os.mkdir(outDir1)\n",
    "\n",
    "        mp3Path = os.path.join(outDir1, str(sound.previews.preview_lq_mp3.split(\"/\")[-1]))\n",
    "        ftrPath = mp3Path.replace('.mp3', featureExt)\n",
    "\n",
    "        try:\n",
    "            fs.FSRequest.retrieve(sound.previews.preview_lq_mp3, fsClnt, mp3Path)\n",
    "\n",
    "            # Safely access descriptors without eval\n",
    "            features = {desc: getattr(sound.analysis, desc, None) for desc in descriptors}\n",
    "\n",
    "            # Save features to a JSON file\n",
    "            with open(ftrPath, 'w') as ftrFile:\n",
    "                json.dump(features, ftrFile)\n",
    "\n",
    "            sndCnt += 1\n",
    "            downloadedSounds.append([str(sound.id), sound.url])\n",
    "        except Exception as e:\n",
    "            print(f\"Error downloading sound ID {sound.id}: {e}\")\n",
    "            print(traceback.format_exc())\n",
    "            shutil.rmtree(outDir1)\n",
    "\n",
    "        indCnt += 1\n",
    "\n",
    "        if indCnt % page_size == 0:\n",
    "            qRes = qRes.next_page()\n",
    "            pageNo += 1\n",
    "\n",
    "        if sndCnt >= topNResults:\n",
    "            break\n",
    "\n",
    "    # Dump the list of files and Freesound links\n",
    "    with open(os.path.join(outDir2, f'{queryText}_SoundList.txt'), 'w') as fid:\n",
    "        for elem in downloadedSounds:\n",
    "            fid.write('\\t'.join(elem) + '\\n')\n"
   ]
  },
  {
   "cell_type": "code",
   "execution_count": 34,
   "id": "81b59d71-7161-424e-9a55-729012d272cc",
   "metadata": {},
   "outputs": [],
   "source": [
    "# this helper is copied from my final assignment in the ASPMA class\n",
    "def random_rec_paths( instrument=\"trumpet\", n=3, storage_dir=\"testDownload\" ):\n",
    "    \"\"\"\n",
    "    Return n random file paths to recordings of the specified instrument.\n",
    "    \"\"\"\n",
    "    instrument_path = f\"{storage_dir}/{instrument}\"\n",
    "\n",
    "    # freesound example ids\n",
    "    example_ids = os.listdir( instrument_path )\n",
    "\n",
    "    # do not consider non-directory files, like .DS_Store\n",
    "    removables = []\n",
    "    for ex in example_ids:\n",
    "        if not os.path.isdir( f\"{instrument_path}/{ex}\" ):\n",
    "            removables.append( ex )\n",
    "    for ex in removables:\n",
    "        example_ids.remove( ex )\n",
    "\n",
    "    exs = np.random.choice( example_ids, size=n, replace=False )\n",
    "\n",
    "    # for each example, find the name of the mp3 file\n",
    "    mp3_paths = []\n",
    "    for ex in exs:\n",
    "        for filename in os.listdir( f\"{instrument_path}/{ex}\" ):\n",
    "            if filename.endswith( \".mp3\" ):\n",
    "                mp3_paths.append(\n",
    "                    f\"{instrument_path}/{ex}/{filename}\"\n",
    "                )\n",
    "\n",
    "    return mp3_paths"
   ]
  },
  {
   "cell_type": "code",
   "execution_count": 32,
   "id": "cff6c1f4-6c6a-40fa-92df-8fe96f6f57d2",
   "metadata": {},
   "outputs": [],
   "source": [
    "# replace with the location of your own Freesound API key\n",
    "API_Key = None\n",
    "API_Key_path = \"/Users/morehovschi/freesound_api_key\"\n",
    "with open( API_Key_path, \"r\" ) as f:\n",
    "    # read API key and omit the last character (\\n)\n",
    "    API_Key = f.readlines()[ 0 ][ :-1 ]"
   ]
  },
  {
   "cell_type": "code",
   "execution_count": 33,
   "id": "21468d7a-ef77-4acb-881c-3e2a7257b076",
   "metadata": {},
   "outputs": [
    {
     "name": "stdout",
     "output_type": "stream",
     "text": [
      "Downloading mp3 preview and descriptors for sound with ID: 678310\n",
      "Downloading mp3 preview and descriptors for sound with ID: 58337\n",
      "Downloading mp3 preview and descriptors for sound with ID: 709038\n",
      "Downloading mp3 preview and descriptors for sound with ID: 49710\n",
      "Downloading mp3 preview and descriptors for sound with ID: 678315\n",
      "Downloading mp3 preview and descriptors for sound with ID: 678316\n",
      "Downloading mp3 preview and descriptors for sound with ID: 337435\n",
      "Downloading mp3 preview and descriptors for sound with ID: 431813\n",
      "Downloading mp3 preview and descriptors for sound with ID: 678317\n",
      "Downloading mp3 preview and descriptors for sound with ID: 102968\n"
     ]
    }
   ],
   "source": [
    "download_sounds_freesound( queryText = \"crickets\", duration=(0,5), API_Key=API_Key,\n",
    "                           outputDir=download_path, topNResults=10 )"
   ]
  },
  {
   "cell_type": "code",
   "execution_count": 31,
   "id": "3a191ade-1810-4c36-ab91-0133210a96da",
   "metadata": {},
   "outputs": [
    {
     "data": {
      "text/plain": [
       "'\\n'"
      ]
     },
     "execution_count": 31,
     "metadata": {},
     "output_type": "execute_result"
    }
   ],
   "source": [
    "cricket_paths = random_rec_paths( \"cricket\", n=10, "
   ]
  },
  {
   "cell_type": "code",
   "execution_count": null,
   "id": "f0c8b220-e4ef-4fb2-ba4a-70a3f66523fd",
   "metadata": {},
   "outputs": [],
   "source": []
  }
 ],
 "metadata": {
  "kernelspec": {
   "display_name": "Python 3 (ipykernel)",
   "language": "python",
   "name": "python3"
  },
  "language_info": {
   "codemirror_mode": {
    "name": "ipython",
    "version": 3
   },
   "file_extension": ".py",
   "mimetype": "text/x-python",
   "name": "python",
   "nbconvert_exporter": "python",
   "pygments_lexer": "ipython3",
   "version": "3.10.0"
  }
 },
 "nbformat": 4,
 "nbformat_minor": 5
}
